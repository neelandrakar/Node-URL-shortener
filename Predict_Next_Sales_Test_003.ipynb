{
  "nbformat": 4,
  "nbformat_minor": 0,
  "metadata": {
    "colab": {
      "provenance": [],
      "authorship_tag": "ABX9TyNN/yo6+P6PInd/KHWlomU2",
      "include_colab_link": true
    },
    "kernelspec": {
      "name": "python3",
      "display_name": "Python 3"
    },
    "language_info": {
      "name": "python"
    }
  },
  "cells": [
    {
      "cell_type": "markdown",
      "metadata": {
        "id": "view-in-github",
        "colab_type": "text"
      },
      "source": [
        "<a href=\"https://colab.research.google.com/github/neelandrakar/Node-URL-shortener/blob/main/Predict_Next_Sales_Test_003.ipynb\" target=\"_parent\"><img src=\"https://colab.research.google.com/assets/colab-badge.svg\" alt=\"Open In Colab\"/></a>"
      ]
    },
    {
      "cell_type": "markdown",
      "source": [
        "**Importing Libraries**"
      ],
      "metadata": {
        "id": "Eb94zhJRhajB"
      }
    },
    {
      "cell_type": "code",
      "execution_count": null,
      "metadata": {
        "id": "CUeuRCddhNfz"
      },
      "outputs": [],
      "source": [
        "import numpy as np\n",
        "import pandas as pd\n",
        "import matplotlib.pyplot as plt\n",
        "import seaborn as sns"
      ]
    },
    {
      "cell_type": "markdown",
      "source": [
        "**Importing First dataset**"
      ],
      "metadata": {
        "id": "S9sDlEaIhiCe"
      }
    },
    {
      "cell_type": "code",
      "source": [
        "sale_dt = pd.read_csv(\"dealer_wise_sale_with_stock_and_scheme.csv\")\n",
        "sale_dt['purchase_date'] = pd.to_datetime(sale_dt['purchase_date'])\n",
        "sale_dt['PREV_INVOICE'] = pd.to_datetime(sale_dt['PREV_INVOICE'])\n",
        "\n",
        "print(sale_dt.head(5))"
      ],
      "metadata": {
        "colab": {
          "base_uri": "https://localhost:8080/"
        },
        "id": "NoS7MA7BhlrD",
        "outputId": "3a574358-d567-4f09-9489-45b64356d049"
      },
      "execution_count": null,
      "outputs": [
        {
          "output_type": "stream",
          "name": "stdout",
          "text": [
            "   dealer_id purchase_date  purchase_rank  pri_sale salescategory_status  \\\n",
            "0       4886    2025-02-18              1     6.090               Normal   \n",
            "1       4886    2025-02-14              2     9.945               Normal   \n",
            "2       4886    2025-01-15              3    10.000               Normal   \n",
            "3       4886    2024-11-27              4     7.000               Normal   \n",
            "4       8045    2025-02-12              1     6.900               Normal   \n",
            "\n",
            "   state_id PREV_INVOICE  last_90_days_pri_sale  last_90_days_sec_sale  \\\n",
            "0         5   2025-02-14                 222.42                 224.71   \n",
            "1         5   2025-01-15                 222.42                 224.31   \n",
            "2         5   2024-11-27                 222.42                 216.71   \n",
            "3         5   2024-09-24                 212.22                 200.11   \n",
            "4         5   2024-12-24                 228.42                 243.81   \n",
            "\n",
            "   last_90_days_sd_sale  scheme_avalable  \n",
            "0                  15.0                1  \n",
            "1                  15.0                1  \n",
            "2                  15.0                1  \n",
            "3                  15.0                1  \n",
            "4                   0.0                1  \n"
          ]
        },
        {
          "output_type": "stream",
          "name": "stderr",
          "text": [
            "<ipython-input-38-381f3f81cc07>:2: UserWarning: Parsing dates in %d-%m-%Y format when dayfirst=False (the default) was specified. Pass `dayfirst=True` or specify a format to silence this warning.\n",
            "  sale_dt['purchase_date'] = pd.to_datetime(sale_dt['purchase_date'])\n",
            "<ipython-input-38-381f3f81cc07>:3: UserWarning: Parsing dates in %d-%m-%Y format when dayfirst=False (the default) was specified. Pass `dayfirst=True` or specify a format to silence this warning.\n",
            "  sale_dt['PREV_INVOICE'] = pd.to_datetime(sale_dt['PREV_INVOICE'])\n"
          ]
        }
      ]
    },
    {
      "cell_type": "markdown",
      "source": [
        "**Calculating Day Difference**"
      ],
      "metadata": {
        "id": "vaFbyWRdjNEt"
      }
    },
    {
      "cell_type": "code",
      "source": [
        "sale_dt['DayDiff'] = (sale_dt['purchase_date'] - sale_dt['PREV_INVOICE']).dt.days\n",
        "print(sale_dt.head(5))"
      ],
      "metadata": {
        "colab": {
          "base_uri": "https://localhost:8080/"
        },
        "id": "6yzJL4GejOCN",
        "outputId": "58a1a18b-0fbb-4aa3-bef8-c2b5e4d1f4ca"
      },
      "execution_count": null,
      "outputs": [
        {
          "output_type": "stream",
          "name": "stdout",
          "text": [
            "   dealer_id purchase_date  purchase_rank  pri_sale salescategory_status  \\\n",
            "0       4886    2025-02-18              1     6.090               Normal   \n",
            "1       4886    2025-02-14              2     9.945               Normal   \n",
            "2       4886    2025-01-15              3    10.000               Normal   \n",
            "3       4886    2024-11-27              4     7.000               Normal   \n",
            "4       8045    2025-02-12              1     6.900               Normal   \n",
            "\n",
            "   state_id PREV_INVOICE  last_90_days_pri_sale  last_90_days_sec_sale  \\\n",
            "0         5   2025-02-14                 222.42                 224.71   \n",
            "1         5   2025-01-15                 222.42                 224.31   \n",
            "2         5   2024-11-27                 222.42                 216.71   \n",
            "3         5   2024-09-24                 212.22                 200.11   \n",
            "4         5   2024-12-24                 228.42                 243.81   \n",
            "\n",
            "   last_90_days_sd_sale  scheme_avalable  DayDiff  \n",
            "0                  15.0                1      4.0  \n",
            "1                  15.0                1     30.0  \n",
            "2                  15.0                1     49.0  \n",
            "3                  15.0                1     64.0  \n",
            "4                   0.0                1     50.0  \n"
          ]
        }
      ]
    },
    {
      "cell_type": "markdown",
      "source": [
        "**Calculating mean avg next lift day range**"
      ],
      "metadata": {
        "id": "AvSZ0hmRjTbb"
      }
    },
    {
      "cell_type": "code",
      "source": [
        "sale_day_diff = sale_dt[sale_dt['DayDiff'] >= 10].groupby('dealer_id').agg({'DayDiff': ['mean', 'std']}).reset_index()\n",
        "sale_day_diff.columns = ['dealer_id', 'DayDiffMean','DayDiffStd']\n",
        "print(sale_day_diff.head(5))\n",
        "sale_day_diff = pd.merge(sale_day_diff,sale_dt[['dealer_id', 'scheme_avalable']], on='dealer_id', how='inner')\n",
        "print(sale_day_diff.head(5))"
      ],
      "metadata": {
        "colab": {
          "base_uri": "https://localhost:8080/"
        },
        "id": "Qjbbu5qejXfs",
        "outputId": "c187c48f-eb65-4e19-e6eb-9bc2cf3bbc46"
      },
      "execution_count": null,
      "outputs": [
        {
          "output_type": "stream",
          "name": "stdout",
          "text": [
            "   dealer_id  DayDiffMean  DayDiffStd\n",
            "0       4886    47.666667   17.039171\n",
            "1       8045    53.250000    8.460693\n",
            "2      11702    16.000000    6.000000\n",
            "3      12280    53.000000   37.242449\n",
            "4      12329    17.000000    8.485281\n",
            "   dealer_id  DayDiffMean  DayDiffStd  scheme_avalable\n",
            "0       4886    47.666667   17.039171                1\n",
            "1       4886    47.666667   17.039171                1\n",
            "2       4886    47.666667   17.039171                1\n",
            "3       4886    47.666667   17.039171                1\n",
            "4       8045    53.250000    8.460693                1\n"
          ]
        }
      ]
    },
    {
      "cell_type": "markdown",
      "source": [
        "**Remove dealers who have less than 3 purchases**"
      ],
      "metadata": {
        "id": "nP7tKo2BjbDK"
      }
    },
    {
      "cell_type": "code",
      "source": [
        "sale_day_last = sale_dt.drop_duplicates(subset=['dealer_id'], keep='last')"
      ],
      "metadata": {
        "id": "9h4gy3a5jda8"
      },
      "execution_count": null,
      "outputs": []
    },
    {
      "cell_type": "markdown",
      "source": [
        "**Dropping NA values**"
      ],
      "metadata": {
        "id": "yBqJm4FSjj0s"
      }
    },
    {
      "cell_type": "code",
      "source": [
        "sale_day_last = sale_day_last.dropna()\n",
        "sales_day_last = pd.merge(sale_day_last, sale_day_diff, on='dealer_id')\n",
        "#print(sale_user)\n",
        "sale_class = sales_day_last.copy()\n",
        "sale_class = pd.get_dummies(sale_class)"
      ],
      "metadata": {
        "id": "Nnw2iG8RjluB"
      },
      "execution_count": null,
      "outputs": []
    },
    {
      "cell_type": "markdown",
      "source": [
        "**Setting NextLiftingRange**"
      ],
      "metadata": {
        "id": "J-sQygVpjq3-"
      }
    },
    {
      "cell_type": "code",
      "source": [
        "#print(sale_class.head(5))\n",
        "sale_class['NextPurchaseDayRange'] = 0\n",
        "sale_class.loc[sale_class.DayDiffMean > 10, 'NextPurchaseDayRange'] = 1\n",
        "sale_class.loc[sale_class.DayDiffMean > 20, 'NextPurchaseDayRange'] = 2\n",
        "sale_class.loc[sale_class.DayDiffMean > 30, 'NextPurchaseDayRange'] = 3\n",
        "sale_class.loc[sale_class.DayDiffMean > 40, 'NextPurchaseDayRange'] = 4\n",
        "sale_class.loc[sale_class.DayDiffMean > 50, 'NextPurchaseDayRange'] = 5\n",
        "sale_class.loc[sale_class.DayDiffMean > 60, 'NextPurchaseDayRange'] = 6\n",
        "sale_class.loc[sale_class.DayDiffMean > 70, 'NextPurchaseDayRange'] = 7\n",
        "sale_class.loc[sale_class.DayDiffMean > 80, 'NextPurchaseDayRange'] = 8\n",
        "sale_class.loc[sale_class.DayDiffMean > 90, 'NextPurchaseDayRange'] = 9\n",
        "sale_class.loc[sale_class.DayDiffMean > 100, 'NextPurchaseDayRange'] = 10\n",
        "sale_class.loc[sale_class.DayDiffMean > 110, 'NextPurchaseDayRange'] = 11\n",
        "sale_class.loc[sale_class.DayDiffMean > 120, 'NextPurchaseDayRange'] = 12\n",
        "sale_class.loc[sale_class.DayDiffMean > 130, 'NextPurchaseDayRange'] = 13\n",
        "sale_class.loc[sale_class.DayDiffMean > 140, 'NextPurchaseDayRange'] = 14\n",
        "sale_class.loc[sale_class.DayDiffMean > 150, 'NextPurchaseDayRange'] = 15\n",
        "sale_class.loc[sale_class.DayDiffMean > 160, 'NextPurchaseDayRange'] = 16\n",
        "sale_class.loc[sale_class.DayDiffMean > 170, 'NextPurchaseDayRange'] = 17\n",
        "sale_class.loc[sale_class.DayDiffMean > 180, 'NextPurchaseDayRange'] = 18\n",
        "print(sale_class.head(4))"
      ],
      "metadata": {
        "colab": {
          "base_uri": "https://localhost:8080/"
        },
        "id": "GfqAh8z-jqMx",
        "outputId": "0e3f16d3-3ea3-4a40-87f7-de0434c191a6"
      },
      "execution_count": null,
      "outputs": [
        {
          "output_type": "stream",
          "name": "stdout",
          "text": [
            "   dealer_id purchase_date  purchase_rank  pri_sale  state_id PREV_INVOICE  \\\n",
            "0       4886    2024-11-27              4       7.0         5   2024-09-24   \n",
            "1       4886    2024-11-27              4       7.0         5   2024-09-24   \n",
            "2       4886    2024-11-27              4       7.0         5   2024-09-24   \n",
            "3       4886    2024-11-27              4       7.0         5   2024-09-24   \n",
            "\n",
            "   last_90_days_pri_sale  last_90_days_sec_sale  last_90_days_sd_sale  \\\n",
            "0                 212.22                 200.11                  15.0   \n",
            "1                 212.22                 200.11                  15.0   \n",
            "2                 212.22                 200.11                  15.0   \n",
            "3                 212.22                 200.11                  15.0   \n",
            "\n",
            "   scheme_avalable_x  DayDiff  DayDiffMean  DayDiffStd  scheme_avalable_y  \\\n",
            "0                  1     64.0    47.666667   17.039171                  1   \n",
            "1                  1     64.0    47.666667   17.039171                  1   \n",
            "2                  1     64.0    47.666667   17.039171                  1   \n",
            "3                  1     64.0    47.666667   17.039171                  1   \n",
            "\n",
            "   salescategory_status_NOD  salescategory_status_Normal  \\\n",
            "0                     False                         True   \n",
            "1                     False                         True   \n",
            "2                     False                         True   \n",
            "3                     False                         True   \n",
            "\n",
            "   salescategory_status_Pure NOD  NextPurchaseDayRange  \n",
            "0                          False                     4  \n",
            "1                          False                     4  \n",
            "2                          False                     4  \n",
            "3                          False                     4  \n"
          ]
        }
      ]
    },
    {
      "cell_type": "markdown",
      "source": [
        "**Importing Mean Avg Stock Dataset**"
      ],
      "metadata": {
        "id": "Dm8J_84Uj4Oe"
      }
    },
    {
      "cell_type": "code",
      "source": [
        "mas = pd.read_csv('mean_avg_stock.csv')\n",
        "print(mas.head(5))"
      ],
      "metadata": {
        "colab": {
          "base_uri": "https://localhost:8080/"
        },
        "id": "3Vpyx56wj_Y8",
        "outputId": "d203e805-f465-4e3c-b97b-c0e79adccbb8"
      },
      "execution_count": null,
      "outputs": [
        {
          "output_type": "stream",
          "name": "stdout",
          "text": [
            "   dealer_id  avg_mean_stock\n",
            "0    2077497            3.47\n",
            "1    2165352           33.45\n",
            "2      40479           73.02\n",
            "3      39276           36.99\n",
            "4    2070260           17.35\n"
          ]
        }
      ]
    },
    {
      "cell_type": "markdown",
      "source": [
        "**Importing Invoice wise other stock dataset**"
      ],
      "metadata": {
        "id": "PmPL4J7ks1GV"
      }
    },
    {
      "cell_type": "code",
      "source": [
        "invoice_wise_stock_dt =  pd.read_csv('dealer_invoice_wise_stock.csv')\n",
        "print(invoice_wise_stock_dt.head(5))"
      ],
      "metadata": {
        "colab": {
          "base_uri": "https://localhost:8080/"
        },
        "id": "nyBtQ8qxs8mo",
        "outputId": "87b686dc-d7b1-48b9-8b37-dc1d66c9bcbb"
      },
      "execution_count": null,
      "outputs": [
        {
          "output_type": "stream",
          "name": "stdout",
          "text": [
            "   dealer_id purchase_date  purchase_rank  pri_sale PREV_INVOICE  \\\n",
            "0       4886    18-02-2025              1     6.090   14-02-2025   \n",
            "1       4886    14-02-2025              2     9.945   15-01-2025   \n",
            "2       4886    15-01-2025              3    10.000   27-11-2024   \n",
            "3       4886    27-11-2024              4     7.000   24-09-2024   \n",
            "4       8045    12-02-2025              1     6.900   24-12-2024   \n",
            "\n",
            "   last_90_days_pri_sale  last_90_days_sec_sale  last_90_days_sd_sale  \n",
            "0                 222.42                 224.71                  15.0  \n",
            "1                 222.42                 224.31                  15.0  \n",
            "2                 222.42                 216.71                  15.0  \n",
            "3                 212.22                 200.11                  15.0  \n",
            "4                 228.42                 243.81                   0.0  \n"
          ]
        }
      ]
    },
    {
      "cell_type": "markdown",
      "source": [
        "**Merging both 2nd and 3rd dataset**"
      ],
      "metadata": {
        "id": "ZV1GZWdOtMOm"
      }
    },
    {
      "cell_type": "code",
      "source": [
        "invoice_wise_stock_bal = pd.merge(invoice_wise_stock_dt, mas, on=['dealer_id'], how='left')\n",
        "print(invoice_wise_stock_bal.head(5))\n"
      ],
      "metadata": {
        "colab": {
          "base_uri": "https://localhost:8080/"
        },
        "id": "19hxI_y2tPam",
        "outputId": "0d069143-5701-4412-a2b1-38a2229b73bf"
      },
      "execution_count": null,
      "outputs": [
        {
          "output_type": "stream",
          "name": "stdout",
          "text": [
            "   dealer_id purchase_date  purchase_rank  pri_sale PREV_INVOICE  \\\n",
            "0       4886    18-02-2025              1     6.090   14-02-2025   \n",
            "1       4886    14-02-2025              2     9.945   15-01-2025   \n",
            "2       4886    15-01-2025              3    10.000   27-11-2024   \n",
            "3       4886    27-11-2024              4     7.000   24-09-2024   \n",
            "4       8045    12-02-2025              1     6.900   24-12-2024   \n",
            "\n",
            "   last_90_days_pri_sale  last_90_days_sec_sale  last_90_days_sd_sale  \\\n",
            "0                 222.42                 224.71                  15.0   \n",
            "1                 222.42                 224.31                  15.0   \n",
            "2                 222.42                 216.71                  15.0   \n",
            "3                 212.22                 200.11                  15.0   \n",
            "4                 228.42                 243.81                   0.0   \n",
            "\n",
            "   avg_mean_stock  \n",
            "0            7.42  \n",
            "1            7.42  \n",
            "2            7.42  \n",
            "3            7.42  \n",
            "4            8.47  \n"
          ]
        }
      ]
    },
    {
      "cell_type": "markdown",
      "source": [
        "**Dropping NaN values from invoice_wise_stock_bal**"
      ],
      "metadata": {
        "id": "JSzVjstdvD7p"
      }
    },
    {
      "cell_type": "code",
      "source": [
        "invoice_wise_stock_bal = invoice_wise_stock_bal.dropna()\n"
      ],
      "metadata": {
        "id": "16tbyyBIvDn-"
      },
      "execution_count": null,
      "outputs": []
    },
    {
      "cell_type": "markdown",
      "source": [
        "**Checking if stock is less than avg stock**"
      ],
      "metadata": {
        "id": "XVMhS_NjttTu"
      }
    },
    {
      "cell_type": "code",
      "source": [
        "# Calculate total_left using columns from invoice_wise_stock_bal\n",
        "invoice_wise_stock_bal['total_left'] = (\n",
        "    invoice_wise_stock_bal['last_90_days_pri_sale'] -\n",
        "    (invoice_wise_stock_bal['last_90_days_sec_sale'] + invoice_wise_stock_bal['last_90_days_sd_sale'])\n",
        ")\n",
        "\n",
        "# Add is_stock_low column using vectorized comparison\n",
        "invoice_wise_stock_bal['is_stock_low'] = (\n",
        "    invoice_wise_stock_bal['total_left'] < invoice_wise_stock_bal['avg_mean_stock']\n",
        ").astype(int)\n",
        "\n",
        "# Drop the specified columns\n",
        "invoice_wise_stock_bal = invoice_wise_stock_bal.drop(\n",
        "    columns=['last_90_days_pri_sale', 'last_90_days_sec_sale', 'last_90_days_sd_sale']\n",
        ")\n",
        "\n",
        "# Print the updated DataFrame (fixed typo)\n",
        "print(invoice_wise_stock_bal.head(50))"
      ],
      "metadata": {
        "colab": {
          "base_uri": "https://localhost:8080/"
        },
        "id": "A9lz-vDXtzYv",
        "outputId": "7e74bbd1-c30a-4d27-e53f-97b02db8cb26"
      },
      "execution_count": null,
      "outputs": [
        {
          "output_type": "stream",
          "name": "stdout",
          "text": [
            "    dealer_id purchase_date  purchase_rank  pri_sale PREV_INVOICE  \\\n",
            "0        4886    18-02-2025              1     6.090   14-02-2025   \n",
            "1        4886    14-02-2025              2     9.945   15-01-2025   \n",
            "2        4886    15-01-2025              3    10.000   27-11-2024   \n",
            "3        4886    27-11-2024              4     7.000   24-09-2024   \n",
            "4        8045    12-02-2025              1     6.900   24-12-2024   \n",
            "5        8045    24-12-2024              2    10.560   27-10-2024   \n",
            "6        8045    27-10-2024              3     7.035   26-08-2024   \n",
            "7        8045    26-08-2024              4     9.305   14-07-2024   \n",
            "8       11702    20-02-2025              1     4.545   15-02-2025   \n",
            "9       11702    15-02-2025              2    10.855   30-01-2025   \n",
            "10      11702    30-01-2025              3     3.045   08-01-2025   \n",
            "11      11702    08-01-2025              4     6.975   29-12-2024   \n",
            "12      12280    16-02-2025              1     9.020   08-02-2025   \n",
            "13      12280    08-02-2025              2    25.010   04-12-2024   \n",
            "14      12280    04-12-2024              3    25.000   13-09-2024   \n",
            "15      12280    13-09-2024              4    24.990   02-09-2024   \n",
            "16      12329    23-02-2025              1    30.010   17-02-2025   \n",
            "17      12329    17-02-2025              2    24.980   06-02-2025   \n",
            "18      12329    06-02-2025              3    31.020   29-01-2025   \n",
            "19      12329    29-01-2025              4    24.980   06-01-2025   \n",
            "20      12634    17-02-2025              1    12.395   08-12-2024   \n",
            "21      12634    08-12-2024              2    10.225   14-10-2024   \n",
            "22      12634    14-10-2024              3    12.260   27-06-2024   \n",
            "23      12634    27-06-2024              4    12.110   31-05-2024   \n",
            "24      12642    24-02-2025              1     3.175   22-02-2025   \n",
            "25      12642    22-02-2025              2     4.940   20-02-2025   \n",
            "26      12642    20-02-2025              3     4.620   13-02-2025   \n",
            "27      12642    13-02-2025              4     3.755   12-02-2025   \n",
            "32      12671    12-02-2025              1    25.070   03-02-2025   \n",
            "33      12671    03-02-2025              2    25.030   24-01-2025   \n",
            "34      12671    24-01-2025              3    11.870   27-12-2024   \n",
            "35      12671    27-12-2024              4    24.940   16-12-2024   \n",
            "36      12690    21-02-2025              1    25.010   20-02-2025   \n",
            "37      12690    20-02-2025              2    30.020   11-02-2025   \n",
            "38      12690    11-02-2025              3    25.050   10-02-2025   \n",
            "39      12690    10-02-2025              4    24.980   09-02-2025   \n",
            "40      12938    19-02-2025              1     7.474   12-02-2025   \n",
            "41      12938    12-02-2025              2    15.050   28-01-2025   \n",
            "42      12938    28-01-2025              3    10.650   28-12-2024   \n",
            "43      12938    28-12-2024              4    25.044   30-11-2024   \n",
            "44      12980    13-02-2025              1     9.925   08-01-2025   \n",
            "45      12980    08-01-2025              2     9.950   20-12-2024   \n",
            "46      12980    20-12-2024              3     9.480   17-12-2024   \n",
            "47      12980    17-12-2024              4     6.020   09-12-2024   \n",
            "48      13050    24-02-2025              1    12.705   18-01-2025   \n",
            "49      13050    18-01-2025              2    10.045   21-12-2024   \n",
            "50      13050    21-12-2024              3     8.140   30-08-2024   \n",
            "51      13050    30-08-2024              4     7.915   11-08-2024   \n",
            "52      13060    12-02-2025              1    12.845   12-01-2025   \n",
            "53      13060    12-01-2025              2    15.010   07-12-2024   \n",
            "\n",
            "    avg_mean_stock  total_left  is_stock_low  \n",
            "0             7.42     -17.290             1  \n",
            "1             7.42     -16.890             1  \n",
            "2             7.42      -9.290             1  \n",
            "3             7.42      -2.890             1  \n",
            "4             8.47     -15.390             1  \n",
            "5             8.47     -22.425             1  \n",
            "6             8.47     -31.730             1  \n",
            "7             8.47     -44.620             1  \n",
            "8            11.52    -851.150             1  \n",
            "9            11.52    -851.150             1  \n",
            "10           11.52    -851.175             1  \n",
            "11           11.52    -856.095             1  \n",
            "12           10.11     -12.320             1  \n",
            "13           10.11     -10.820             1  \n",
            "14           10.11     -29.610             1  \n",
            "15           10.11     -28.390             1  \n",
            "16           37.85    -276.260             1  \n",
            "17           37.85    -299.780             1  \n",
            "18           37.85    -276.020             1  \n",
            "19           37.85    -276.020             1  \n",
            "20           12.45    -429.555             1  \n",
            "21           12.45    -441.315             1  \n",
            "22           12.45    -438.315             1  \n",
            "23           12.45    -452.865             1  \n",
            "24           14.26    -272.045             1  \n",
            "25           14.26    -272.045             1  \n",
            "26           14.26    -270.045             1  \n",
            "27           14.26    -276.695             1  \n",
            "32           32.95    -771.120             1  \n",
            "33           32.95    -808.110             1  \n",
            "34           32.95    -808.110             1  \n",
            "35           32.95    -818.040             1  \n",
            "36          110.92    2817.510             0  \n",
            "37          110.92    2817.510             0  \n",
            "38          110.92    2817.510             0  \n",
            "39          110.92    2767.450             0  \n",
            "40           18.87    -275.094             1  \n",
            "41           18.87    -300.084             1  \n",
            "42           18.87    -298.524             1  \n",
            "43           18.87    -300.114             1  \n",
            "44           10.79    -242.145             1  \n",
            "45           10.79    -248.665             1  \n",
            "46           10.79    -256.675             1  \n",
            "47           10.79    -256.675             1  \n",
            "48            9.06    -529.030             1  \n",
            "49            9.06    -522.530             1  \n",
            "50            9.06    -513.030             1  \n",
            "51            9.06    -520.105             1  \n",
            "52            7.97    -238.075             1  \n",
            "53            7.97    -230.425             1  \n"
          ]
        },
        {
          "output_type": "stream",
          "name": "stderr",
          "text": [
            "<ipython-input-49-7a3b917222d3>:2: SettingWithCopyWarning: \n",
            "A value is trying to be set on a copy of a slice from a DataFrame.\n",
            "Try using .loc[row_indexer,col_indexer] = value instead\n",
            "\n",
            "See the caveats in the documentation: https://pandas.pydata.org/pandas-docs/stable/user_guide/indexing.html#returning-a-view-versus-a-copy\n",
            "  invoice_wise_stock_bal['total_left'] = (\n",
            "<ipython-input-49-7a3b917222d3>:8: SettingWithCopyWarning: \n",
            "A value is trying to be set on a copy of a slice from a DataFrame.\n",
            "Try using .loc[row_indexer,col_indexer] = value instead\n",
            "\n",
            "See the caveats in the documentation: https://pandas.pydata.org/pandas-docs/stable/user_guide/indexing.html#returning-a-view-versus-a-copy\n",
            "  invoice_wise_stock_bal['is_stock_low'] = (\n"
          ]
        }
      ]
    },
    {
      "cell_type": "markdown",
      "source": [
        "**Calculating DayDiffMean**"
      ],
      "metadata": {
        "id": "bYozUDY57Cw9"
      }
    },
    {
      "cell_type": "code",
      "source": [
        "invoice_wise_stock_bal['purchase_date'] = pd.to_datetime(invoice_wise_stock_bal['purchase_date'])\n",
        "invoice_wise_stock_bal['PREV_INVOICE'] = pd.to_datetime(invoice_wise_stock_bal['PREV_INVOICE'])\n",
        "\n",
        "\n",
        "invoice_wise_stock_bal['DayDiff'] = (invoice_wise_stock_bal['purchase_date'] - invoice_wise_stock_bal['PREV_INVOICE']).dt.days\n",
        "\n",
        "# Merge DayDiffMean into invoice_wise_stock_bal\n",
        "invoice_wise_stock_bal = invoice_wise_stock_bal.drop(columns=['4'], errors='ignore')  # Drop existing DayDiffMean if any\n",
        "invoice_wise_stock_bal = invoice_wise_stock_bal.merge(sale_day_diff[['dealer_id', 'DayDiffMean','scheme_avalable']], on='dealer_id', how='inner')\n",
        "\n",
        "\n",
        "\n",
        "\n",
        "\n"
      ],
      "metadata": {
        "id": "KvECbH9C7FKr"
      },
      "execution_count": null,
      "outputs": []
    },
    {
      "cell_type": "code",
      "source": [
        "#invoice_wise_stock_bal.dropna()\n",
        "print(invoice_wise_stock_bal[invoice_wise_stock_bal['is_stock_low']==0].head(5))\n"
      ],
      "metadata": {
        "colab": {
          "base_uri": "https://localhost:8080/"
        },
        "id": "7K_ACJJ_Ht4J",
        "outputId": "e5a5f9df-f6c0-443c-f4a5-12720a3bc202"
      },
      "execution_count": null,
      "outputs": [
        {
          "output_type": "stream",
          "name": "stdout",
          "text": [
            "     dealer_id purchase_date  purchase_rank  pri_sale PREV_INVOICE  \\\n",
            "192      14874    2025-02-22              1    13.120   2025-01-31   \n",
            "193      14874    2025-02-22              1    13.120   2025-01-31   \n",
            "194      14874    2025-02-22              1    13.120   2025-01-31   \n",
            "195      14874    2025-02-22              1    13.120   2025-01-31   \n",
            "196      14874    2025-01-31              2     7.065   2025-01-28   \n",
            "\n",
            "     avg_mean_stock  total_left  is_stock_low  DayDiff  DayDiffMean  \\\n",
            "192           12.41      15.665             0       22         17.0   \n",
            "193           12.41      15.665             0       22         17.0   \n",
            "194           12.41      15.665             0       22         17.0   \n",
            "195           12.41      15.665             0       22         17.0   \n",
            "196           12.41      16.665             0        3         17.0   \n",
            "\n",
            "     scheme_avalable  \n",
            "192                1  \n",
            "193                1  \n",
            "194                1  \n",
            "195                1  \n",
            "196                1  \n"
          ]
        }
      ]
    },
    {
      "cell_type": "markdown",
      "source": [
        "**Setting features and target**"
      ],
      "metadata": {
        "id": "pbPcQJf5Up7t"
      }
    },
    {
      "cell_type": "code",
      "source": [
        "# Features and target\n",
        "features = ['dealer_id', 'is_stock_low','scheme_avalable']\n",
        "x = invoice_wise_stock_bal[features]\n",
        "y = invoice_wise_stock_bal['DayDiff']\n",
        "groups = invoice_wise_stock_bal['dealer_id']"
      ],
      "metadata": {
        "id": "B8ZHD-qZUtN2"
      },
      "execution_count": null,
      "outputs": []
    },
    {
      "cell_type": "markdown",
      "source": [
        "**Splitting into group and train**"
      ],
      "metadata": {
        "id": "kUWVBWxXUvsJ"
      }
    },
    {
      "cell_type": "code",
      "source": [
        "from sklearn.model_selection import GroupShuffleSplit\n",
        "from sklearn.ensemble import RandomForestRegressor\n",
        "\n",
        "# Grouped split\n",
        "gss = GroupShuffleSplit(n_splits=1, test_size=0.2, random_state=44)\n",
        "for train_idx, test_idx in gss.split(x, y, groups=groups):\n",
        "    X_train, X_test = x.iloc[train_idx], x.iloc[test_idx]\n",
        "    y_train, y_test = y.iloc[train_idx], y.iloc[test_idx]\n",
        "\n",
        "# Train\n",
        "randomForestRegModel = RandomForestRegressor(n_estimators=100, random_state=44)\n",
        "randomForestRegModel.fit(X_train, y_train)"
      ],
      "metadata": {
        "colab": {
          "base_uri": "https://localhost:8080/",
          "height": 80
        },
        "id": "lRH9Mvk2U2r6",
        "outputId": "2072d274-723b-42b6-b14e-145235ea1058"
      },
      "execution_count": null,
      "outputs": [
        {
          "output_type": "execute_result",
          "data": {
            "text/plain": [
              "RandomForestRegressor(random_state=44)"
            ],
            "text/html": [
              "<style>#sk-container-id-2 {\n",
              "  /* Definition of color scheme common for light and dark mode */\n",
              "  --sklearn-color-text: #000;\n",
              "  --sklearn-color-text-muted: #666;\n",
              "  --sklearn-color-line: gray;\n",
              "  /* Definition of color scheme for unfitted estimators */\n",
              "  --sklearn-color-unfitted-level-0: #fff5e6;\n",
              "  --sklearn-color-unfitted-level-1: #f6e4d2;\n",
              "  --sklearn-color-unfitted-level-2: #ffe0b3;\n",
              "  --sklearn-color-unfitted-level-3: chocolate;\n",
              "  /* Definition of color scheme for fitted estimators */\n",
              "  --sklearn-color-fitted-level-0: #f0f8ff;\n",
              "  --sklearn-color-fitted-level-1: #d4ebff;\n",
              "  --sklearn-color-fitted-level-2: #b3dbfd;\n",
              "  --sklearn-color-fitted-level-3: cornflowerblue;\n",
              "\n",
              "  /* Specific color for light theme */\n",
              "  --sklearn-color-text-on-default-background: var(--sg-text-color, var(--theme-code-foreground, var(--jp-content-font-color1, black)));\n",
              "  --sklearn-color-background: var(--sg-background-color, var(--theme-background, var(--jp-layout-color0, white)));\n",
              "  --sklearn-color-border-box: var(--sg-text-color, var(--theme-code-foreground, var(--jp-content-font-color1, black)));\n",
              "  --sklearn-color-icon: #696969;\n",
              "\n",
              "  @media (prefers-color-scheme: dark) {\n",
              "    /* Redefinition of color scheme for dark theme */\n",
              "    --sklearn-color-text-on-default-background: var(--sg-text-color, var(--theme-code-foreground, var(--jp-content-font-color1, white)));\n",
              "    --sklearn-color-background: var(--sg-background-color, var(--theme-background, var(--jp-layout-color0, #111)));\n",
              "    --sklearn-color-border-box: var(--sg-text-color, var(--theme-code-foreground, var(--jp-content-font-color1, white)));\n",
              "    --sklearn-color-icon: #878787;\n",
              "  }\n",
              "}\n",
              "\n",
              "#sk-container-id-2 {\n",
              "  color: var(--sklearn-color-text);\n",
              "}\n",
              "\n",
              "#sk-container-id-2 pre {\n",
              "  padding: 0;\n",
              "}\n",
              "\n",
              "#sk-container-id-2 input.sk-hidden--visually {\n",
              "  border: 0;\n",
              "  clip: rect(1px 1px 1px 1px);\n",
              "  clip: rect(1px, 1px, 1px, 1px);\n",
              "  height: 1px;\n",
              "  margin: -1px;\n",
              "  overflow: hidden;\n",
              "  padding: 0;\n",
              "  position: absolute;\n",
              "  width: 1px;\n",
              "}\n",
              "\n",
              "#sk-container-id-2 div.sk-dashed-wrapped {\n",
              "  border: 1px dashed var(--sklearn-color-line);\n",
              "  margin: 0 0.4em 0.5em 0.4em;\n",
              "  box-sizing: border-box;\n",
              "  padding-bottom: 0.4em;\n",
              "  background-color: var(--sklearn-color-background);\n",
              "}\n",
              "\n",
              "#sk-container-id-2 div.sk-container {\n",
              "  /* jupyter's `normalize.less` sets `[hidden] { display: none; }`\n",
              "     but bootstrap.min.css set `[hidden] { display: none !important; }`\n",
              "     so we also need the `!important` here to be able to override the\n",
              "     default hidden behavior on the sphinx rendered scikit-learn.org.\n",
              "     See: https://github.com/scikit-learn/scikit-learn/issues/21755 */\n",
              "  display: inline-block !important;\n",
              "  position: relative;\n",
              "}\n",
              "\n",
              "#sk-container-id-2 div.sk-text-repr-fallback {\n",
              "  display: none;\n",
              "}\n",
              "\n",
              "div.sk-parallel-item,\n",
              "div.sk-serial,\n",
              "div.sk-item {\n",
              "  /* draw centered vertical line to link estimators */\n",
              "  background-image: linear-gradient(var(--sklearn-color-text-on-default-background), var(--sklearn-color-text-on-default-background));\n",
              "  background-size: 2px 100%;\n",
              "  background-repeat: no-repeat;\n",
              "  background-position: center center;\n",
              "}\n",
              "\n",
              "/* Parallel-specific style estimator block */\n",
              "\n",
              "#sk-container-id-2 div.sk-parallel-item::after {\n",
              "  content: \"\";\n",
              "  width: 100%;\n",
              "  border-bottom: 2px solid var(--sklearn-color-text-on-default-background);\n",
              "  flex-grow: 1;\n",
              "}\n",
              "\n",
              "#sk-container-id-2 div.sk-parallel {\n",
              "  display: flex;\n",
              "  align-items: stretch;\n",
              "  justify-content: center;\n",
              "  background-color: var(--sklearn-color-background);\n",
              "  position: relative;\n",
              "}\n",
              "\n",
              "#sk-container-id-2 div.sk-parallel-item {\n",
              "  display: flex;\n",
              "  flex-direction: column;\n",
              "}\n",
              "\n",
              "#sk-container-id-2 div.sk-parallel-item:first-child::after {\n",
              "  align-self: flex-end;\n",
              "  width: 50%;\n",
              "}\n",
              "\n",
              "#sk-container-id-2 div.sk-parallel-item:last-child::after {\n",
              "  align-self: flex-start;\n",
              "  width: 50%;\n",
              "}\n",
              "\n",
              "#sk-container-id-2 div.sk-parallel-item:only-child::after {\n",
              "  width: 0;\n",
              "}\n",
              "\n",
              "/* Serial-specific style estimator block */\n",
              "\n",
              "#sk-container-id-2 div.sk-serial {\n",
              "  display: flex;\n",
              "  flex-direction: column;\n",
              "  align-items: center;\n",
              "  background-color: var(--sklearn-color-background);\n",
              "  padding-right: 1em;\n",
              "  padding-left: 1em;\n",
              "}\n",
              "\n",
              "\n",
              "/* Toggleable style: style used for estimator/Pipeline/ColumnTransformer box that is\n",
              "clickable and can be expanded/collapsed.\n",
              "- Pipeline and ColumnTransformer use this feature and define the default style\n",
              "- Estimators will overwrite some part of the style using the `sk-estimator` class\n",
              "*/\n",
              "\n",
              "/* Pipeline and ColumnTransformer style (default) */\n",
              "\n",
              "#sk-container-id-2 div.sk-toggleable {\n",
              "  /* Default theme specific background. It is overwritten whether we have a\n",
              "  specific estimator or a Pipeline/ColumnTransformer */\n",
              "  background-color: var(--sklearn-color-background);\n",
              "}\n",
              "\n",
              "/* Toggleable label */\n",
              "#sk-container-id-2 label.sk-toggleable__label {\n",
              "  cursor: pointer;\n",
              "  display: flex;\n",
              "  width: 100%;\n",
              "  margin-bottom: 0;\n",
              "  padding: 0.5em;\n",
              "  box-sizing: border-box;\n",
              "  text-align: center;\n",
              "  align-items: start;\n",
              "  justify-content: space-between;\n",
              "  gap: 0.5em;\n",
              "}\n",
              "\n",
              "#sk-container-id-2 label.sk-toggleable__label .caption {\n",
              "  font-size: 0.6rem;\n",
              "  font-weight: lighter;\n",
              "  color: var(--sklearn-color-text-muted);\n",
              "}\n",
              "\n",
              "#sk-container-id-2 label.sk-toggleable__label-arrow:before {\n",
              "  /* Arrow on the left of the label */\n",
              "  content: \"▸\";\n",
              "  float: left;\n",
              "  margin-right: 0.25em;\n",
              "  color: var(--sklearn-color-icon);\n",
              "}\n",
              "\n",
              "#sk-container-id-2 label.sk-toggleable__label-arrow:hover:before {\n",
              "  color: var(--sklearn-color-text);\n",
              "}\n",
              "\n",
              "/* Toggleable content - dropdown */\n",
              "\n",
              "#sk-container-id-2 div.sk-toggleable__content {\n",
              "  max-height: 0;\n",
              "  max-width: 0;\n",
              "  overflow: hidden;\n",
              "  text-align: left;\n",
              "  /* unfitted */\n",
              "  background-color: var(--sklearn-color-unfitted-level-0);\n",
              "}\n",
              "\n",
              "#sk-container-id-2 div.sk-toggleable__content.fitted {\n",
              "  /* fitted */\n",
              "  background-color: var(--sklearn-color-fitted-level-0);\n",
              "}\n",
              "\n",
              "#sk-container-id-2 div.sk-toggleable__content pre {\n",
              "  margin: 0.2em;\n",
              "  border-radius: 0.25em;\n",
              "  color: var(--sklearn-color-text);\n",
              "  /* unfitted */\n",
              "  background-color: var(--sklearn-color-unfitted-level-0);\n",
              "}\n",
              "\n",
              "#sk-container-id-2 div.sk-toggleable__content.fitted pre {\n",
              "  /* unfitted */\n",
              "  background-color: var(--sklearn-color-fitted-level-0);\n",
              "}\n",
              "\n",
              "#sk-container-id-2 input.sk-toggleable__control:checked~div.sk-toggleable__content {\n",
              "  /* Expand drop-down */\n",
              "  max-height: 200px;\n",
              "  max-width: 100%;\n",
              "  overflow: auto;\n",
              "}\n",
              "\n",
              "#sk-container-id-2 input.sk-toggleable__control:checked~label.sk-toggleable__label-arrow:before {\n",
              "  content: \"▾\";\n",
              "}\n",
              "\n",
              "/* Pipeline/ColumnTransformer-specific style */\n",
              "\n",
              "#sk-container-id-2 div.sk-label input.sk-toggleable__control:checked~label.sk-toggleable__label {\n",
              "  color: var(--sklearn-color-text);\n",
              "  background-color: var(--sklearn-color-unfitted-level-2);\n",
              "}\n",
              "\n",
              "#sk-container-id-2 div.sk-label.fitted input.sk-toggleable__control:checked~label.sk-toggleable__label {\n",
              "  background-color: var(--sklearn-color-fitted-level-2);\n",
              "}\n",
              "\n",
              "/* Estimator-specific style */\n",
              "\n",
              "/* Colorize estimator box */\n",
              "#sk-container-id-2 div.sk-estimator input.sk-toggleable__control:checked~label.sk-toggleable__label {\n",
              "  /* unfitted */\n",
              "  background-color: var(--sklearn-color-unfitted-level-2);\n",
              "}\n",
              "\n",
              "#sk-container-id-2 div.sk-estimator.fitted input.sk-toggleable__control:checked~label.sk-toggleable__label {\n",
              "  /* fitted */\n",
              "  background-color: var(--sklearn-color-fitted-level-2);\n",
              "}\n",
              "\n",
              "#sk-container-id-2 div.sk-label label.sk-toggleable__label,\n",
              "#sk-container-id-2 div.sk-label label {\n",
              "  /* The background is the default theme color */\n",
              "  color: var(--sklearn-color-text-on-default-background);\n",
              "}\n",
              "\n",
              "/* On hover, darken the color of the background */\n",
              "#sk-container-id-2 div.sk-label:hover label.sk-toggleable__label {\n",
              "  color: var(--sklearn-color-text);\n",
              "  background-color: var(--sklearn-color-unfitted-level-2);\n",
              "}\n",
              "\n",
              "/* Label box, darken color on hover, fitted */\n",
              "#sk-container-id-2 div.sk-label.fitted:hover label.sk-toggleable__label.fitted {\n",
              "  color: var(--sklearn-color-text);\n",
              "  background-color: var(--sklearn-color-fitted-level-2);\n",
              "}\n",
              "\n",
              "/* Estimator label */\n",
              "\n",
              "#sk-container-id-2 div.sk-label label {\n",
              "  font-family: monospace;\n",
              "  font-weight: bold;\n",
              "  display: inline-block;\n",
              "  line-height: 1.2em;\n",
              "}\n",
              "\n",
              "#sk-container-id-2 div.sk-label-container {\n",
              "  text-align: center;\n",
              "}\n",
              "\n",
              "/* Estimator-specific */\n",
              "#sk-container-id-2 div.sk-estimator {\n",
              "  font-family: monospace;\n",
              "  border: 1px dotted var(--sklearn-color-border-box);\n",
              "  border-radius: 0.25em;\n",
              "  box-sizing: border-box;\n",
              "  margin-bottom: 0.5em;\n",
              "  /* unfitted */\n",
              "  background-color: var(--sklearn-color-unfitted-level-0);\n",
              "}\n",
              "\n",
              "#sk-container-id-2 div.sk-estimator.fitted {\n",
              "  /* fitted */\n",
              "  background-color: var(--sklearn-color-fitted-level-0);\n",
              "}\n",
              "\n",
              "/* on hover */\n",
              "#sk-container-id-2 div.sk-estimator:hover {\n",
              "  /* unfitted */\n",
              "  background-color: var(--sklearn-color-unfitted-level-2);\n",
              "}\n",
              "\n",
              "#sk-container-id-2 div.sk-estimator.fitted:hover {\n",
              "  /* fitted */\n",
              "  background-color: var(--sklearn-color-fitted-level-2);\n",
              "}\n",
              "\n",
              "/* Specification for estimator info (e.g. \"i\" and \"?\") */\n",
              "\n",
              "/* Common style for \"i\" and \"?\" */\n",
              "\n",
              ".sk-estimator-doc-link,\n",
              "a:link.sk-estimator-doc-link,\n",
              "a:visited.sk-estimator-doc-link {\n",
              "  float: right;\n",
              "  font-size: smaller;\n",
              "  line-height: 1em;\n",
              "  font-family: monospace;\n",
              "  background-color: var(--sklearn-color-background);\n",
              "  border-radius: 1em;\n",
              "  height: 1em;\n",
              "  width: 1em;\n",
              "  text-decoration: none !important;\n",
              "  margin-left: 0.5em;\n",
              "  text-align: center;\n",
              "  /* unfitted */\n",
              "  border: var(--sklearn-color-unfitted-level-1) 1pt solid;\n",
              "  color: var(--sklearn-color-unfitted-level-1);\n",
              "}\n",
              "\n",
              ".sk-estimator-doc-link.fitted,\n",
              "a:link.sk-estimator-doc-link.fitted,\n",
              "a:visited.sk-estimator-doc-link.fitted {\n",
              "  /* fitted */\n",
              "  border: var(--sklearn-color-fitted-level-1) 1pt solid;\n",
              "  color: var(--sklearn-color-fitted-level-1);\n",
              "}\n",
              "\n",
              "/* On hover */\n",
              "div.sk-estimator:hover .sk-estimator-doc-link:hover,\n",
              ".sk-estimator-doc-link:hover,\n",
              "div.sk-label-container:hover .sk-estimator-doc-link:hover,\n",
              ".sk-estimator-doc-link:hover {\n",
              "  /* unfitted */\n",
              "  background-color: var(--sklearn-color-unfitted-level-3);\n",
              "  color: var(--sklearn-color-background);\n",
              "  text-decoration: none;\n",
              "}\n",
              "\n",
              "div.sk-estimator.fitted:hover .sk-estimator-doc-link.fitted:hover,\n",
              ".sk-estimator-doc-link.fitted:hover,\n",
              "div.sk-label-container:hover .sk-estimator-doc-link.fitted:hover,\n",
              ".sk-estimator-doc-link.fitted:hover {\n",
              "  /* fitted */\n",
              "  background-color: var(--sklearn-color-fitted-level-3);\n",
              "  color: var(--sklearn-color-background);\n",
              "  text-decoration: none;\n",
              "}\n",
              "\n",
              "/* Span, style for the box shown on hovering the info icon */\n",
              ".sk-estimator-doc-link span {\n",
              "  display: none;\n",
              "  z-index: 9999;\n",
              "  position: relative;\n",
              "  font-weight: normal;\n",
              "  right: .2ex;\n",
              "  padding: .5ex;\n",
              "  margin: .5ex;\n",
              "  width: min-content;\n",
              "  min-width: 20ex;\n",
              "  max-width: 50ex;\n",
              "  color: var(--sklearn-color-text);\n",
              "  box-shadow: 2pt 2pt 4pt #999;\n",
              "  /* unfitted */\n",
              "  background: var(--sklearn-color-unfitted-level-0);\n",
              "  border: .5pt solid var(--sklearn-color-unfitted-level-3);\n",
              "}\n",
              "\n",
              ".sk-estimator-doc-link.fitted span {\n",
              "  /* fitted */\n",
              "  background: var(--sklearn-color-fitted-level-0);\n",
              "  border: var(--sklearn-color-fitted-level-3);\n",
              "}\n",
              "\n",
              ".sk-estimator-doc-link:hover span {\n",
              "  display: block;\n",
              "}\n",
              "\n",
              "/* \"?\"-specific style due to the `<a>` HTML tag */\n",
              "\n",
              "#sk-container-id-2 a.estimator_doc_link {\n",
              "  float: right;\n",
              "  font-size: 1rem;\n",
              "  line-height: 1em;\n",
              "  font-family: monospace;\n",
              "  background-color: var(--sklearn-color-background);\n",
              "  border-radius: 1rem;\n",
              "  height: 1rem;\n",
              "  width: 1rem;\n",
              "  text-decoration: none;\n",
              "  /* unfitted */\n",
              "  color: var(--sklearn-color-unfitted-level-1);\n",
              "  border: var(--sklearn-color-unfitted-level-1) 1pt solid;\n",
              "}\n",
              "\n",
              "#sk-container-id-2 a.estimator_doc_link.fitted {\n",
              "  /* fitted */\n",
              "  border: var(--sklearn-color-fitted-level-1) 1pt solid;\n",
              "  color: var(--sklearn-color-fitted-level-1);\n",
              "}\n",
              "\n",
              "/* On hover */\n",
              "#sk-container-id-2 a.estimator_doc_link:hover {\n",
              "  /* unfitted */\n",
              "  background-color: var(--sklearn-color-unfitted-level-3);\n",
              "  color: var(--sklearn-color-background);\n",
              "  text-decoration: none;\n",
              "}\n",
              "\n",
              "#sk-container-id-2 a.estimator_doc_link.fitted:hover {\n",
              "  /* fitted */\n",
              "  background-color: var(--sklearn-color-fitted-level-3);\n",
              "}\n",
              "</style><div id=\"sk-container-id-2\" class=\"sk-top-container\"><div class=\"sk-text-repr-fallback\"><pre>RandomForestRegressor(random_state=44)</pre><b>In a Jupyter environment, please rerun this cell to show the HTML representation or trust the notebook. <br />On GitHub, the HTML representation is unable to render, please try loading this page with nbviewer.org.</b></div><div class=\"sk-container\" hidden><div class=\"sk-item\"><div class=\"sk-estimator fitted sk-toggleable\"><input class=\"sk-toggleable__control sk-hidden--visually\" id=\"sk-estimator-id-2\" type=\"checkbox\" checked><label for=\"sk-estimator-id-2\" class=\"sk-toggleable__label fitted sk-toggleable__label-arrow\"><div><div>RandomForestRegressor</div></div><div><a class=\"sk-estimator-doc-link fitted\" rel=\"noreferrer\" target=\"_blank\" href=\"https://scikit-learn.org/1.6/modules/generated/sklearn.ensemble.RandomForestRegressor.html\">?<span>Documentation for RandomForestRegressor</span></a><span class=\"sk-estimator-doc-link fitted\">i<span>Fitted</span></span></div></label><div class=\"sk-toggleable__content fitted\"><pre>RandomForestRegressor(random_state=44)</pre></div> </div></div></div></div>"
            ]
          },
          "metadata": {},
          "execution_count": 57
        }
      ]
    },
    {
      "cell_type": "markdown",
      "source": [
        "**Printing both training sets**"
      ],
      "metadata": {
        "id": "AduanQvNU_9r"
      }
    },
    {
      "cell_type": "code",
      "source": [
        "# Check performance\n",
        "#print(\"Train R^2:\", randomForestRegModel.score(X_train, y_train))\n",
        "#print(\"Test R^2:\", randomForestRegModel.score(X_test, y_test))\n",
        "print(X_train)\n",
        "print(y_train)"
      ],
      "metadata": {
        "colab": {
          "base_uri": "https://localhost:8080/"
        },
        "id": "0_hjUIgBVFdP",
        "outputId": "20fcaf38-d33a-4590-8d10-cabd582c1265"
      },
      "execution_count": null,
      "outputs": [
        {
          "output_type": "stream",
          "name": "stdout",
          "text": [
            "      dealer_id  is_stock_low  scheme_avalable\n",
            "0          4886             1                1\n",
            "1          4886             1                1\n",
            "2          4886             1                1\n",
            "3          4886             1                1\n",
            "4          4886             1                1\n",
            "...         ...           ...              ...\n",
            "3695  232945855             0                1\n",
            "3696  232947047             1                1\n",
            "3697  232947047             1                1\n",
            "3698  232947047             1                1\n",
            "3699  232947047             1                1\n",
            "\n",
            "[2928 rows x 3 columns]\n",
            "0        4\n",
            "1        4\n",
            "2        4\n",
            "3        4\n",
            "4       30\n",
            "        ..\n",
            "3695    37\n",
            "3696    23\n",
            "3697    23\n",
            "3698    23\n",
            "3699    23\n",
            "Name: DayDiff, Length: 2928, dtype: int64\n"
          ]
        }
      ]
    },
    {
      "cell_type": "markdown",
      "source": [
        "**Checking importance of features**"
      ],
      "metadata": {
        "id": "NyLzLU-1Vp_6"
      }
    },
    {
      "cell_type": "code",
      "source": [
        "# Feature importance\n",
        "importances = randomForestRegModel.feature_importances_\n",
        "feature_importance = dict(zip(features, importances))\n",
        "print(\"Feature importances:\")\n",
        "for feature, importance in feature_importance.items():\n",
        "    print(f\"{feature}: {importance:.4f}\")"
      ],
      "metadata": {
        "colab": {
          "base_uri": "https://localhost:8080/"
        },
        "id": "DOHfvZJMVsPB",
        "outputId": "ec5cf498-19e2-401c-acac-85bbab6da7f7"
      },
      "execution_count": null,
      "outputs": [
        {
          "output_type": "stream",
          "name": "stdout",
          "text": [
            "Feature importances:\n",
            "dealer_id: 0.9022\n",
            "is_stock_low: 0.0351\n",
            "scheme_avalable: 0.0628\n"
          ]
        }
      ]
    },
    {
      "cell_type": "markdown",
      "source": [
        "**Predicting data**"
      ],
      "metadata": {
        "id": "lpBFf4rLV0pG"
      }
    },
    {
      "cell_type": "code",
      "source": [
        "import datetime\n",
        "from datetime import timedelta\n",
        "\n",
        "\n",
        "# Predict for dealer_id = 4886 (latest) with is_stock_low = 0\n",
        "dealer_data = invoice_wise_stock_bal[invoice_wise_stock_bal['dealer_id'] == 4886].sort_values('purchase_date', ascending=False).iloc[0:1].copy()\n",
        "last_purchase = datetime.datetime(2024, 11, 27)\n",
        "\n",
        "\n",
        "def getPrediction(is_stock_low,scheme_available):\n",
        "  dealer_data['is_stock_low'] = is_stock_low\n",
        "  dealer_data['scheme_avalable'] = scheme_available\n",
        "\n",
        "  X_new_0 = dealer_data[features]\n",
        "\n",
        "  #print('X_new_0: ',X_new_0)\n",
        "  last_purchase = dealer_data['purchase_date'].iloc[0]\n",
        "  predicted_next_daydiff = float(randomForestRegModel.predict(X_new_0)[0])\n",
        "\n",
        "  return predicted_next_daydiff\n",
        "\n",
        "# Calculate predicted day differences\n",
        "next_day_diff_00 = getPrediction(0, 0)  # High stock & no scheme\n",
        "next_day_diff_10 = getPrediction(1, 0)  # Low stock & no scheme\n",
        "next_day_diff_11 = getPrediction(1, 1)  # Low stock & scheme available\n",
        "next_day_diff_01 = getPrediction(0, 1)  # High stock & scheme available\n",
        "\n",
        "# Calculate predicted dates\n",
        "predicted_date_00 = last_purchase + timedelta(days=next_day_diff_00)  # High stock & no scheme\n",
        "predicted_date_10 = last_purchase + timedelta(days=next_day_diff_10)  # Low stock & no scheme\n",
        "predicted_date_11 = last_purchase + timedelta(days=next_day_diff_11)  # Low stock & scheme available\n",
        "predicted_date_01 = last_purchase + timedelta(days=next_day_diff_01)  # High stock & scheme available\n",
        "\n",
        "# Output\n",
        "print(\"High stock & no scheme:\")\n",
        "print(\"Predicted NextDayDiff:\", round(next_day_diff_00, 2))\n",
        "print(\"Last purchase date:\", last_purchase)\n",
        "print(\"Predicted next purchase date:\", predicted_date_00)\n",
        "print(\"--------------------------------------------------\")\n",
        "\n",
        "print(\"\\nLow stock & no scheme:\")\n",
        "print(\"Predicted NextDayDiff:\", round(next_day_diff_10, 2))\n",
        "print(\"Last purchase date:\", last_purchase)\n",
        "print(\"Predicted next purchase date:\", predicted_date_10)\n",
        "print(\"--------------------------------------------------\")\n",
        "\n",
        "print(\"\\nLow stock & scheme available:\")\n",
        "print(\"Predicted NextDayDiff:\", round(next_day_diff_11, 2))\n",
        "print(\"Last purchase date:\", last_purchase)\n",
        "print(\"Predicted next purchase date:\", predicted_date_11)\n",
        "print(\"--------------------------------------------------\")\n",
        "\n",
        "print(\"\\nHigh stock & scheme available:\")\n",
        "print(\"Predicted NextDayDiff:\", round(next_day_diff_01, 2))\n",
        "print(\"Last purchase date:\", last_purchase)\n",
        "print(\"Predicted next purchase date:\", predicted_date_01)"
      ],
      "metadata": {
        "colab": {
          "base_uri": "https://localhost:8080/"
        },
        "id": "OqEILNBJV8VR",
        "outputId": "d7b0a530-798e-44f3-dd81-242234389c5a"
      },
      "execution_count": null,
      "outputs": [
        {
          "output_type": "stream",
          "name": "stdout",
          "text": [
            "X_new_0:        dealer_id  is_stock_low  scheme_avalable\n",
            "3071  232839435             0                0\n",
            "X_new_0:        dealer_id  is_stock_low  scheme_avalable\n",
            "3071  232839435             1                0\n",
            "X_new_0:        dealer_id  is_stock_low  scheme_avalable\n",
            "3071  232839435             1                1\n",
            "X_new_0:        dealer_id  is_stock_low  scheme_avalable\n",
            "3071  232839435             0                1\n",
            "High stock & no scheme:\n",
            "Predicted NextDayDiff: 99.35\n",
            "Last purchase date: 2024-11-27 00:00:00\n",
            "Predicted next purchase date: 2025-03-06 08:29:00.514286\n",
            "--------------------------------------------------\n",
            "\n",
            "Low stock & no scheme:\n",
            "Predicted NextDayDiff: 47.42\n",
            "Last purchase date: 2024-11-27 00:00:00\n",
            "Predicted next purchase date: 2025-01-13 10:09:19.248958\n",
            "--------------------------------------------------\n",
            "\n",
            "Low stock & scheme available:\n",
            "Predicted NextDayDiff: 90.63\n",
            "Last purchase date: 2024-11-27 00:00:00\n",
            "Predicted next purchase date: 2025-02-25 15:05:09.977062\n",
            "--------------------------------------------------\n",
            "\n",
            "High stock & scheme available:\n",
            "Predicted NextDayDiff: 97.55\n",
            "Last purchase date: 2024-11-27 00:00:00\n",
            "Predicted next purchase date: 2025-03-04 13:16:47.713702\n"
          ]
        }
      ]
    },
    {
      "cell_type": "code",
      "source": [
        "import datetime\n",
        "from datetime import timedelta\n",
        "\n",
        "\n",
        "# Predict for dealer_id = 4886 (latest) with is_stock_low = 0\n",
        "dealer_data = invoice_wise_stock_bal.sort_values('purchase_date', ascending=False).iloc[0:1].copy()\n",
        "last_purchase = datetime.datetime(2024, 11, 27)\n",
        "\n",
        "\n",
        "def getPrediction(is_stock_low,scheme_available):\n",
        "  dealer_data['is_stock_low'] = is_stock_low\n",
        "  dealer_data['scheme_avalable'] = scheme_available\n",
        "\n",
        "  X_new_0 = dealer_data[features]\n",
        "\n",
        "  #print('X_new_0: ',X_new_0)\n",
        "  last_purchase = dealer_data['purchase_date'].iloc[0]\n",
        "  predicted_next_daydiff = float(randomForestRegModel.predict(X_new_0)[0])\n",
        "\n",
        "  return predicted_next_daydiff\n",
        "\n",
        "# Calculate predicted day differences\n",
        "next_day_diff_00 = getPrediction(0, 0)  # High stock & no scheme\n",
        "next_day_diff_10 = getPrediction(1, 0)  # Low stock & no scheme\n",
        "next_day_diff_11 = getPrediction(1, 1)  # Low stock & scheme available\n",
        "next_day_diff_01 = getPrediction(0, 1)  # High stock & scheme available\n",
        "\n",
        "# Calculate predicted dates\n",
        "predicted_date_00 = last_purchase + timedelta(days=next_day_diff_00)  # High stock & no scheme\n",
        "predicted_date_10 = last_purchase + timedelta(days=next_day_diff_10)  # Low stock & no scheme\n",
        "predicted_date_11 = last_purchase + timedelta(days=next_day_diff_11)  # Low stock & scheme available\n",
        "predicted_date_01 = last_purchase + timedelta(days=next_day_diff_01)  # High stock & scheme available\n",
        "\n",
        "# Output\n",
        "print(\"High stock & no scheme:\")\n",
        "print(\"Predicted NextDayDiff:\", round(next_day_diff_00, 2))\n",
        "print(\"Last purchase date:\", last_purchase)\n",
        "print(\"Predicted next purchase date:\", predicted_date_00)\n",
        "print(\"--------------------------------------------------\")\n",
        "\n",
        "print(\"\\nLow stock & no scheme:\")\n",
        "print(\"Predicted NextDayDiff:\", round(next_day_diff_10, 2))\n",
        "print(\"Last purchase date:\", last_purchase)\n",
        "print(\"Predicted next purchase date:\", predicted_date_10)\n",
        "print(\"--------------------------------------------------\")\n",
        "\n",
        "print(\"\\nLow stock & scheme available:\")\n",
        "print(\"Predicted NextDayDiff:\", round(next_day_diff_11, 2))\n",
        "print(\"Last purchase date:\", last_purchase)\n",
        "print(\"Predicted next purchase date:\", predicted_date_11)\n",
        "print(\"--------------------------------------------------\")\n",
        "\n",
        "print(\"\\nHigh stock & scheme available:\")\n",
        "print(\"Predicted NextDayDiff:\", round(next_day_diff_01, 2))\n",
        "print(\"Last purchase date:\", last_purchase)\n",
        "print(\"Predicted next purchase date:\", predicted_date_01)"
      ],
      "metadata": {
        "colab": {
          "base_uri": "https://localhost:8080/"
        },
        "id": "XxaR9NqHcEG_",
        "outputId": "9a924d2a-5318-4a4e-8a08-7040419544ea"
      },
      "execution_count": null,
      "outputs": [
        {
          "output_type": "stream",
          "name": "stdout",
          "text": [
            "\n",
            "With is_stock_low = 0:\n",
            "Predicted NextDayDiff: 95.66\n",
            "Last purchase date: 2024-11-27 00:00:00\n",
            "Predicted next purchase date: 2025-03-02 15:54:12.685714\n",
            "\n",
            "With is_stock_low = 1:\n",
            "Predicted NextDayDiff: 27.1\n",
            "Last purchase date: 2024-11-27 00:00:00\n",
            "Predicted next purchase date: 2024-12-24 02:22:01.714286\n"
          ]
        }
      ]
    }
  ]
}